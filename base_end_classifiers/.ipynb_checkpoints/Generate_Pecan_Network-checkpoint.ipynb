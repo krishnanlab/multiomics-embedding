{
 "cells": [
  {
   "cell_type": "code",
   "execution_count": 1,
   "id": "6f5336b6",
   "metadata": {},
   "outputs": [],
   "source": [
    "from pecanpy import pecanpy\n",
    "from typing_extensions import Required\n",
    "from gensim.models import Word2Vec\n",
    "import random\n",
    "\n",
    "# load graph object using SparseOTF mode\n",
    "\n",
    "# all_data\n",
    "g = pecanpy.DenseOTF(p=1, q=1, workers=1, verbose=True)\n",
    "\n"
   ]
  },
  {
   "cell_type": "code",
   "execution_count": 2,
   "id": "56ee683a",
   "metadata": {},
   "outputs": [
    {
     "data": {
      "application/vnd.jupyter.widget-view+json": {
       "model_id": "499f1ff53f184e2da668374bd06d0839",
       "version_major": 2,
       "version_minor": 0
      },
      "text/plain": [
       "  0%|                                                                                       | 0/260090 [00:00<…"
      ]
     },
     "metadata": {},
     "output_type": "display_data"
    }
   ],
   "source": [
    "g.read_edg(\"c:/Users/priceade/Desktop/multiomics-embedding/base_end_classifiers/full_data_pecan_3.tsv\", weighted=True, directed=False)\n",
    "\n",
    "random.seed(10)\n",
    "# generate random walks\n",
    "walks = g.simulate_walks(num_walks=10, walk_length=80)\n"
   ]
  },
  {
   "cell_type": "code",
   "execution_count": 4,
   "id": "45a28d95",
   "metadata": {},
   "outputs": [],
   "source": [
    "# use random walks to train embeddings\n",
    "w2v_model = Word2Vec(walks, vector_size=128, window=10, min_count=0, sg=1, workers=1, epochs=1)\n",
    "w2v_model.wv.save_word2vec_format(\"c:/Users/priceade/Desktop/multiomics-embedding/base_end_classifiers/data_128_dim.txt\")\n"
   ]
  },
  {
   "cell_type": "code",
   "execution_count": null,
   "id": "ab8efc72",
   "metadata": {},
   "outputs": [],
   "source": []
  }
 ],
 "metadata": {
  "kernelspec": {
   "display_name": "Python 3 (ipykernel)",
   "language": "python",
   "name": "python3"
  },
  "language_info": {
   "codemirror_mode": {
    "name": "ipython",
    "version": 3
   },
   "file_extension": ".py",
   "mimetype": "text/x-python",
   "name": "python",
   "nbconvert_exporter": "python",
   "pygments_lexer": "ipython3",
   "version": "3.11.4"
  }
 },
 "nbformat": 4,
 "nbformat_minor": 5
}
