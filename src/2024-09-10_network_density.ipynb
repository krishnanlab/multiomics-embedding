{
 "cells": [
  {
   "cell_type": "markdown",
   "metadata": {},
   "source": [
    "Author: Keenan Manpearl\n",
    "\n",
    "Date: 2024-09-10\n",
    "\n",
    "\n",
    "This notebook explores the number of nodes and network density\n",
    "for picking the optimal pecanpy graph implementation "
   ]
  },
  {
   "cell_type": "code",
   "execution_count": 1,
   "metadata": {},
   "outputs": [],
   "source": [
    "from pecanpy.graph import AdjlstGraph\n",
    "\n",
    "def display_graph_properties(edg_file):\n",
    "    g = AdjlstGraph()\n",
    "    g.read(edg_file, weighted=True, directed=False)\n",
    "    print(f'Number of nodes: {g.num_nodes}')\n",
    "    print(f'Number of edges: {g.num_edges}')\n",
    "    print(f'Edge density: {g.density}')"
   ]
  },
  {
   "cell_type": "code",
   "execution_count": 2,
   "metadata": {},
   "outputs": [
    {
     "name": "stdout",
     "output_type": "stream",
     "text": [
      "Fold 1\n"
     ]
    },
    {
     "name": "stdout",
     "output_type": "stream",
     "text": [
      "Number of nodes: 14816\n",
      "Number of edges: 2408958\n",
      "Edge density: 0.010974799707552252\n",
      "\n",
      "Fold 2\n",
      "Number of nodes: 14586\n",
      "Number of edges: 2365834\n",
      "Edge density: 0.011120943291384317\n",
      "\n",
      "Fold 3\n",
      "Number of nodes: 14741\n",
      "Number of edges: 2400564\n",
      "Edge density: 0.011048132121552078\n",
      "\n",
      "Fold 4\n",
      "Number of nodes: 14737\n",
      "Number of edges: 2395044\n",
      "Edge density: 0.011028712105120419\n",
      "\n",
      "Fold 5\n",
      "Number of nodes: 14585\n",
      "Number of edges: 2368768\n",
      "Edge density: 0.011136261960313226\n",
      "\n"
     ]
    }
   ],
   "source": [
    "for fold in [1,2,3,4,5]:\n",
    "    edg_file = f'../data/edg/tau/edge_list_fold_{fold}.tsv'\n",
    "    print(f'Fold {fold}')\n",
    "    display_graph_properties(edg_file)\n",
    "    print()"
   ]
  },
  {
   "cell_type": "code",
   "execution_count": 3,
   "metadata": {},
   "outputs": [
    {
     "name": "stdout",
     "output_type": "stream",
     "text": [
      "Full network\n",
      "Number of nodes: 27531\n",
      "Number of edges: 5035102\n",
      "Edge density: 0.006643242027482727\n",
      "\n",
      "Missingness filter\n",
      "Number of nodes: 10377\n",
      "Number of edges: 1487394\n",
      "Edge density: 0.01381415248077323\n",
      "\n",
      "Tau filter\n",
      "Number of nodes: 15053\n",
      "Number of edges: 2458182\n",
      "Edge density: 0.010849176209512819\n"
     ]
    }
   ],
   "source": [
    "print('Full network')\n",
    "display_graph_properties('../data/edg/all_features/edge_list_full.tsv')\n",
    "print()\n",
    "print('Missingness filter')\n",
    "display_graph_properties('../data/edg/missingness/edge_list_full.tsv')\n",
    "print()\n",
    "print('Tau filter')\n",
    "display_graph_properties('../data/edg/tau/edge_list_full.tsv')"
   ]
  }
 ],
 "metadata": {
  "kernelspec": {
   "display_name": "multiomics",
   "language": "python",
   "name": "python3"
  },
  "language_info": {
   "codemirror_mode": {
    "name": "ipython",
    "version": 3
   },
   "file_extension": ".py",
   "mimetype": "text/x-python",
   "name": "python",
   "nbconvert_exporter": "python",
   "pygments_lexer": "ipython3",
   "version": "3.10.14"
  }
 },
 "nbformat": 4,
 "nbformat_minor": 2
}
