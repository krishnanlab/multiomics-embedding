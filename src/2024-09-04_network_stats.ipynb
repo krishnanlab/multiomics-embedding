{
 "cells": [
  {
   "cell_type": "code",
   "execution_count": 1,
   "metadata": {},
   "outputs": [],
   "source": [
    "from pecanpy.graph import AdjlstGraph\n",
    "\n",
    "def display_graph_properties(fold):\n",
    "    edg_file = f'../data/edg/edge_list_fold_{fold}.csv'\n",
    "    g = AdjlstGraph()\n",
    "    g.read(edg_file, weighted=True, directed=False,delimiter=',')\n",
    "    print(f'Number of nodes: {g.num_nodes}')\n",
    "    print(f'Number of edges: {g.num_edges}')\n",
    "    print(f'Edge density: {g.density}')"
   ]
  },
  {
   "cell_type": "code",
   "execution_count": 2,
   "metadata": {},
   "outputs": [
    {
     "name": "stdout",
     "output_type": "stream",
     "text": [
      "Fold 1\n",
      "Number of nodes: 14816\n",
      "Number of edges: 3206126\n",
      "Edge density: 0.01460656046605033\n",
      "\n",
      "Fold 2\n",
      "Number of nodes: 14586\n",
      "Number of edges: 3155986\n",
      "Edge density: 0.014835166513966247\n",
      "\n",
      "Fold 3\n",
      "Number of nodes: 14741\n",
      "Number of edges: 3189776\n",
      "Edge density: 0.014680327908839715\n",
      "\n",
      "Fold 4\n",
      "Number of nodes: 14737\n",
      "Number of edges: 3188904\n",
      "Edge density: 0.014684283105808046\n",
      "\n",
      "Fold 5\n",
      "Number of nodes: 14585\n",
      "Number of edges: 3155768\n",
      "Edge density: 0.014836176077173345\n",
      "\n"
     ]
    }
   ],
   "source": [
    "for fold in [1,2,3,4,5]:\n",
    "    print(f'Fold {fold}')\n",
    "    display_graph_properties(fold)\n",
    "    print()"
   ]
  }
 ],
 "metadata": {
  "kernelspec": {
   "display_name": "multiomics",
   "language": "python",
   "name": "python3"
  },
  "language_info": {
   "codemirror_mode": {
    "name": "ipython",
    "version": 3
   },
   "file_extension": ".py",
   "mimetype": "text/x-python",
   "name": "python",
   "nbconvert_exporter": "python",
   "pygments_lexer": "ipython3",
   "version": "3.10.14"
  }
 },
 "nbformat": 4,
 "nbformat_minor": 2
}
