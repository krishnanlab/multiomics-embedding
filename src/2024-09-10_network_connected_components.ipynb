{
 "cells": [
  {
   "cell_type": "markdown",
   "metadata": {},
   "source": [
    "Author: Keenan Manpearl\n",
    "\n",
    "Date: 2024-09-10\n",
    "\n",
    "This notebooks explores how many connected components there are in the networks.\n",
    "This is because node embedding expects networks to be one connected componenet.\n",
    "When setting non-zero gamma threshold in pecanpy, the network had multiple components. \n",
    "We may need to adress this. \n",
    "\n"
   ]
  },
  {
   "cell_type": "code",
   "execution_count": 1,
   "metadata": {},
   "outputs": [
    {
     "name": "stdout",
     "output_type": "stream",
     "text": [
      "Number of connected componenets:\n",
      "fold 1: 1\n",
      "fold 2: 1\n",
      "fold 3: 1\n",
      "fold 4: 1\n",
      "fold 5: 1\n"
     ]
    }
   ],
   "source": [
    "import networkx as nx\n",
    "\n",
    "def get_cc(fold):\n",
    "    G = nx.read_edgelist(f\"../data/edg/edge_list_fold_{fold}.csv\", delimiter=\",\", data=[('weight', float)])\n",
    "    return nx.number_connected_components(G)\n",
    "\n",
    "print('Number of connected componenets:')\n",
    "print(f'fold 1: {get_cc(1)}')\n",
    "print(f'fold 2: {get_cc(2)}')\n",
    "print(f'fold 3: {get_cc(3)}')\n",
    "print(f'fold 4: {get_cc(4)}')\n",
    "print(f'fold 5: {get_cc(5)}')\n"
   ]
  }
 ],
 "metadata": {
  "kernelspec": {
   "display_name": "multiomics",
   "language": "python",
   "name": "python3"
  },
  "language_info": {
   "codemirror_mode": {
    "name": "ipython",
    "version": 3
   },
   "file_extension": ".py",
   "mimetype": "text/x-python",
   "name": "python",
   "nbconvert_exporter": "python",
   "pygments_lexer": "ipython3",
   "version": "3.10.14"
  }
 },
 "nbformat": 4,
 "nbformat_minor": 2
}
